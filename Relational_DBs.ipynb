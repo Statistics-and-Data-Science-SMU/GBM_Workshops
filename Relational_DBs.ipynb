{
  "nbformat": 4,
  "nbformat_minor": 0,
  "metadata": {
    "colab": {
      "provenance": []
    },
    "kernelspec": {
      "name": "python3",
      "display_name": "Python 3"
    },
    "language_info": {
      "name": "python"
    }
  },
  "cells": [
    {
      "cell_type": "code",
      "source": [
        "import sqlite3\n",
        "import pandas as pd\n",
        "import matplotlib.pyplot as plt"
      ],
      "metadata": {
        "id": "HD05Le7EvH2M"
      },
      "execution_count": 9,
      "outputs": []
    },
    {
      "cell_type": "code",
      "source": [
        "# Step 1: Connect to SQLite Database\n",
        "# (Creates a new database file if it doesn't already exist)\n",
        "conn = sqlite3.connect(\"LibraryDB-2.sqlite\")\n",
        "cursor = conn.cursor()"
      ],
      "metadata": {
        "id": "GeePyF1XvMBp"
      },
      "execution_count": 10,
      "outputs": []
    },
    {
      "cell_type": "code",
      "source": [
        "# Step 2: Create Tables\n",
        "cursor.execute(\"\"\"\n",
        "CREATE TABLE IF NOT EXISTS Book (\n",
        "    BookID INTEGER PRIMARY KEY AUTOINCREMENT,\n",
        "    Title TEXT NOT NULL,\n",
        "    Author TEXT NOT NULL,\n",
        "    Genre TEXT NOT NULL,\n",
        "    YearPublished INTEGER\n",
        ");\n",
        "\"\"\")\n",
        "\n",
        "cursor.execute(\"\"\"\n",
        "CREATE TABLE IF NOT EXISTS Member (\n",
        "    MemberID INTEGER PRIMARY KEY AUTOINCREMENT,\n",
        "    Name TEXT NOT NULL,\n",
        "    Email TEXT NOT NULL,\n",
        "    Phone TEXT\n",
        ");\n",
        "\"\"\")\n",
        "\n",
        "cursor.execute(\"\"\"\n",
        "CREATE TABLE IF NOT EXISTS Borrowing (\n",
        "    BorrowingID INTEGER PRIMARY KEY AUTOINCREMENT,\n",
        "    BookID INTEGER,\n",
        "    MemberID INTEGER,\n",
        "    IssueDate DATE,\n",
        "    ReturnDate DATE,\n",
        "    FOREIGN KEY (BookID) REFERENCES Book(BookID),\n",
        "    FOREIGN KEY (MemberID) REFERENCES Member(MemberID)\n",
        ");\n",
        "\"\"\")\n",
        "print(\"Tables created successfully!\")"
      ],
      "metadata": {
        "colab": {
          "base_uri": "https://localhost:8080/"
        },
        "id": "jnr5BHwAvLyz",
        "outputId": "3f3607c6-7a50-48e7-d2a8-f9d085075a8b"
      },
      "execution_count": 11,
      "outputs": [
        {
          "output_type": "stream",
          "name": "stdout",
          "text": [
            "Tables created successfully!\n"
          ]
        }
      ]
    },
    {
      "cell_type": "code",
      "source": [
        "# Step 3: Insert Sample Data\n",
        "# Books\n",
        "cursor.executemany(\"\"\"\n",
        "INSERT INTO Book (Title, Author, Genre, YearPublished)\n",
        "VALUES (?, ?, ?, ?)\n",
        "\"\"\", [\n",
        "    (\"1984\", \"George Orwell\", \"Dystopian\", 1949),\n",
        "    (\"Brave New World\", \"Aldous Huxley\", \"Sci-Fi\", 1932),\n",
        "    (\"To Kill a Mockingbird\", \"Harper Lee\", \"Fiction\", 1960),\n",
        "    (\"The Great Gatsby\", \"F. Scott Fitzgerald\", \"Classic\", 1925),\n",
        "    (\"Moby Dick\", \"Herman Melville\", \"Adventure\", 1851)\n",
        "])\n",
        "\n",
        "# Members\n",
        "cursor.executemany(\"\"\"\n",
        "INSERT INTO Member (Name, Email, Phone)\n",
        "VALUES (?, ?, ?)\n",
        "\"\"\", [\n",
        "    (\"Alice Smith\", \"alice@example.com\", \"123-456-7890\"),\n",
        "    (\"Bob Johnson\", \"bob@example.com\", \"234-567-8901\"),\n",
        "    (\"Charlie Brown\", \"charlie@example.com\", \"345-678-9012\")\n",
        "])\n",
        "\n",
        "# Borrowing Records\n",
        "cursor.executemany(\"\"\"\n",
        "INSERT INTO Borrowing (BookID, MemberID, IssueDate, ReturnDate)\n",
        "VALUES (?, ?, ?, ?)\n",
        "\"\"\", [\n",
        "    (1, 1, \"2024-11-01\", None),\n",
        "    (2, 2, \"2024-10-15\", \"2024-10-25\"),\n",
        "    (3, 1, \"2024-09-20\", None),\n",
        "    (4, 3, \"2024-09-10\", \"2024-09-20\"),\n",
        "    (5, 2, \"2024-08-01\", \"2024-08-15\")\n",
        "])\n",
        "\n",
        "conn.commit()\n",
        "print(\"Sample data inserted successfully!\")"
      ],
      "metadata": {
        "colab": {
          "base_uri": "https://localhost:8080/"
        },
        "id": "DZPnSUM0vUSz",
        "outputId": "60aa7f43-730e-4f4b-a3ae-8c0e3aafb7b6"
      },
      "execution_count": 12,
      "outputs": [
        {
          "output_type": "stream",
          "name": "stdout",
          "text": [
            "Sample data inserted successfully!\n"
          ]
        }
      ]
    },
    {
      "cell_type": "code",
      "source": [
        "# Step 4: Query Data\n",
        "# Example: Books currently borrowed\n",
        "query = \"\"\"\n",
        "SELECT Book.Title, Member.Name, Borrowing.IssueDate\n",
        "FROM Borrowing\n",
        "JOIN Book ON Borrowing.BookID = Book.BookID\n",
        "JOIN Member ON Borrowing.MemberID = Member.MemberID\n",
        "WHERE Borrowing.ReturnDate IS NULL;\n",
        "\"\"\"\n",
        "df = pd.read_sql_query(query, conn)\n",
        "print(\"\\nBooks currently borrowed:\")\n",
        "print(df)"
      ],
      "metadata": {
        "colab": {
          "base_uri": "https://localhost:8080/"
        },
        "id": "k2F4r_5fvYQt",
        "outputId": "e241b887-baa3-4329-80c8-9a0eaafeadce"
      },
      "execution_count": 13,
      "outputs": [
        {
          "output_type": "stream",
          "name": "stdout",
          "text": [
            "\n",
            "Books currently borrowed:\n",
            "                   Title         Name   IssueDate\n",
            "0                   1984  Alice Smith  2024-11-01\n",
            "1  To Kill a Mockingbird  Alice Smith  2024-09-20\n",
            "2                   1984  Alice Smith  2024-11-01\n",
            "3  To Kill a Mockingbird  Alice Smith  2024-09-20\n"
          ]
        }
      ]
    },
    {
      "cell_type": "code",
      "source": [
        "# Step 5: Visualization\n",
        "# Number of books borrowed by genre\n",
        "genre_query = \"\"\"\n",
        "SELECT Genre, COUNT(*) AS BorrowCount\n",
        "FROM Book B\n",
        "JOIN Borrowing BR ON B.BookID = BR.BookID\n",
        "GROUP BY Genre;\n",
        "\"\"\"\n",
        "genre_df = pd.read_sql_query(genre_query, conn)\n",
        "\n",
        "# Plot the results\n",
        "plt.bar(genre_df['Genre'], genre_df['BorrowCount'], color='skyblue')\n",
        "plt.title(\"Books Borrowed by Genre\")\n",
        "plt.xlabel(\"Genre\")\n",
        "plt.ylabel(\"Number of Books Borrowed\")\n",
        "plt.xticks(rotation=45)\n",
        "plt.tight_layout()\n",
        "plt.show()"
      ],
      "metadata": {
        "colab": {
          "base_uri": "https://localhost:8080/",
          "height": 487
        },
        "id": "uiwRpNmYvZrF",
        "outputId": "3cae8a1b-a049-43e1-8b60-f5cc98181696"
      },
      "execution_count": 14,
      "outputs": [
        {
          "output_type": "display_data",
          "data": {
            "text/plain": [
              "<Figure size 640x480 with 1 Axes>"
            ],
            "image/png": "[encoded data removed]"
          },
          "metadata": {}
        }
      ]
    },
    {
      "cell_type": "code",
      "source": [
        "# Step 6: Cleanup\n",
        "conn.close()\n",
        "print(\"Database connection closed.\")"
      ],
      "metadata": {
        "colab": {
          "base_uri": "https://localhost:8080/"
        },
        "id": "-5i_DEG4vfMu",
        "outputId": "e665b6a3-1ffd-4cf6-bc5e-32d19f75299c"
      },
      "execution_count": 15,
      "outputs": [
        {
          "output_type": "stream",
          "name": "stdout",
          "text": [
            "Database connection closed.\n"
          ]
        }
      ]
    }
  ]
}