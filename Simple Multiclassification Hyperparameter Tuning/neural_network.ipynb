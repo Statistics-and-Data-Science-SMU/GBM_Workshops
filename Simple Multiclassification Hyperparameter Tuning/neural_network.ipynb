{
  "cells": [
    {
      "cell_type": "code",
      "execution_count": null,
      "metadata": {
        "id": "ygDoyciwNpbN"
      },
      "outputs": [],
      "source": [
        "import torch\n",
        "import torch.nn as nn\n",
        "import torch.optim as optim\n",
        "from torch.utils.data import DataLoader\n",
        "from torchvision import datasets, transforms"
      ]
    },
    {
      "cell_type": "markdown",
      "metadata": {
        "id": "wN1kOFDMNpbR"
      },
      "source": [
        "## Step 1: Data Preprocessing\n",
        "Load the MNIST dataset and apply a simple transformation to prepare it for training."
      ]
    },
    {
      "cell_type": "code",
      "execution_count": null,
      "metadata": {
        "colab": {
          "base_uri": "https://localhost:8080/"
        },
        "collapsed": true,
        "id": "FYviPH1zNpbS",
        "outputId": "12f28e6a-2518-464f-b55a-4fd5f9bfe31f"
      },
      "outputs": [
        {
          "output_type": "stream",
          "name": "stdout",
          "text": [
            "Downloading http://yann.lecun.com/exdb/mnist/train-images-idx3-ubyte.gz\n",
            "Failed to download (trying next):\n",
            "HTTP Error 404: Not Found\n",
            "\n",
            "Downloading https://ossci-datasets.s3.amazonaws.com/mnist/train-images-idx3-ubyte.gz\n",
            "Downloading https://ossci-datasets.s3.amazonaws.com/mnist/train-images-idx3-ubyte.gz to ./data/MNIST/raw/train-images-idx3-ubyte.gz\n"
          ]
        },
        {
          "output_type": "stream",
          "name": "stderr",
          "text": [
            "100%|██████████| 9.91M/9.91M [00:01<00:00, 5.25MB/s]\n"
          ]
        },
        {
          "output_type": "stream",
          "name": "stdout",
          "text": [
            "Extracting ./data/MNIST/raw/train-images-idx3-ubyte.gz to ./data/MNIST/raw\n",
            "\n",
            "Downloading http://yann.lecun.com/exdb/mnist/train-labels-idx1-ubyte.gz\n",
            "Failed to download (trying next):\n",
            "HTTP Error 404: Not Found\n",
            "\n",
            "Downloading https://ossci-datasets.s3.amazonaws.com/mnist/train-labels-idx1-ubyte.gz\n",
            "Downloading https://ossci-datasets.s3.amazonaws.com/mnist/train-labels-idx1-ubyte.gz to ./data/MNIST/raw/train-labels-idx1-ubyte.gz\n"
          ]
        },
        {
          "output_type": "stream",
          "name": "stderr",
          "text": [
            "100%|██████████| 28.9k/28.9k [00:00<00:00, 153kB/s]\n"
          ]
        },
        {
          "output_type": "stream",
          "name": "stdout",
          "text": [
            "Extracting ./data/MNIST/raw/train-labels-idx1-ubyte.gz to ./data/MNIST/raw\n",
            "\n",
            "Downloading http://yann.lecun.com/exdb/mnist/t10k-images-idx3-ubyte.gz\n",
            "Failed to download (trying next):\n",
            "HTTP Error 404: Not Found\n",
            "\n",
            "Downloading https://ossci-datasets.s3.amazonaws.com/mnist/t10k-images-idx3-ubyte.gz\n",
            "Downloading https://ossci-datasets.s3.amazonaws.com/mnist/t10k-images-idx3-ubyte.gz to ./data/MNIST/raw/t10k-images-idx3-ubyte.gz\n"
          ]
        },
        {
          "output_type": "stream",
          "name": "stderr",
          "text": [
            "100%|██████████| 1.65M/1.65M [00:01<00:00, 1.45MB/s]\n"
          ]
        },
        {
          "output_type": "stream",
          "name": "stdout",
          "text": [
            "Extracting ./data/MNIST/raw/t10k-images-idx3-ubyte.gz to ./data/MNIST/raw\n",
            "\n",
            "Downloading http://yann.lecun.com/exdb/mnist/t10k-labels-idx1-ubyte.gz\n",
            "Failed to download (trying next):\n",
            "HTTP Error 404: Not Found\n",
            "\n",
            "Downloading https://ossci-datasets.s3.amazonaws.com/mnist/t10k-labels-idx1-ubyte.gz\n",
            "Downloading https://ossci-datasets.s3.amazonaws.com/mnist/t10k-labels-idx1-ubyte.gz to ./data/MNIST/raw/t10k-labels-idx1-ubyte.gz\n"
          ]
        },
        {
          "output_type": "stream",
          "name": "stderr",
          "text": [
            "100%|██████████| 4.54k/4.54k [00:00<00:00, 8.41MB/s]"
          ]
        },
        {
          "output_type": "stream",
          "name": "stdout",
          "text": [
            "Extracting ./data/MNIST/raw/t10k-labels-idx1-ubyte.gz to ./data/MNIST/raw\n",
            "\n"
          ]
        },
        {
          "output_type": "stream",
          "name": "stderr",
          "text": [
            "\n"
          ]
        }
      ],
      "source": [
        "\n",
        "transform = transforms.Compose([transforms.ToTensor(), transforms.Normalize((0.5,), (0.5,))])\n",
        "\n",
        "trainset = datasets.MNIST(root='./data', train=True, download=True, transform=transform)\n",
        "testset = datasets.MNIST(root='./data', train=False, download=True, transform=transform)\n",
        "\n",
        "trainloader = DataLoader(trainset, batch_size=64, shuffle=True)\n",
        "testloader = DataLoader(testset, batch_size=64, shuffle=False)"
      ]
    },
    {
      "cell_type": "markdown",
      "metadata": {
        "id": "p26zDRGSNpbT"
      },
      "source": [
        "## Step 2: Define a Simple Neural Network\n",
        "\n",
        "**Neural Network Architecture**: We define a simple feedforward neural network with three layers:\n",
        "* **fc1**: The first fully connected layer with 128 neurons. Since the input images are 28x28 pixels, we flatten the images into a vector of size 784 (28 * 28).\n",
        "* **fc2**: The second fully connected layer with 64 neurons.\n",
        "* **fc3**: The final fully connected layer with 10 neurons, one for each digit (0-9). <br>\n",
        "\n",
        "**Activation Function**: We use ReLU (Rectified Linear Unit) after each hidden layer to introduce non-linearity. This allows the network to learn complex patterns. <br>\n",
        "\n",
        "**Softmax Activation**: At the output layer, we use Softmax to convert the raw output into probabilities (between 0 and 1), which is useful for classification tasks."
      ]
    },
    {
      "cell_type": "code",
      "execution_count": null,
      "metadata": {
        "id": "yAu0DxevNpbT"
      },
      "outputs": [],
      "source": [
        "class SimpleNN(nn.Module):\n",
        "    def __init__(self):\n",
        "        super(SimpleNN, self).__init__()\n",
        "        self.fc1 = nn.Linear(28 * 28, 64)  # flatten the 28x28 image to 784 features\n",
        "        self.fc2 = nn.Linear(64, 32)\n",
        "        self.fc3 = nn.Linear(32, 10)  # 10 output classes for digits 0-9\n",
        "        self.relu = nn.ReLU()\n",
        "        self.softmax = nn.Softmax(dim=1)\n",
        "\n",
        "    def forward(self, x):\n",
        "        x = x.view(-1, 28*28)  # flatten input\n",
        "        x = self.relu(self.fc1(x))\n",
        "        x = self.relu(self.fc2(x))\n",
        "        x = self.fc3(x)\n",
        "        return self.softmax(x)"
      ]
    },
    {
      "cell_type": "markdown",
      "metadata": {
        "id": "1r17tPbCNpbU"
      },
      "source": [
        "## Step 3: Initialize the Model, Loss Function, and Optimizer"
      ]
    },
    {
      "cell_type": "code",
      "execution_count": null,
      "metadata": {
        "id": "fMSVXnJYNpbU"
      },
      "outputs": [],
      "source": [
        "model = SimpleNN()\n",
        "criterion = nn.CrossEntropyLoss()  # for classification\n",
        "optimizer = optim.Adam(model.parameters(), lr=0.001)"
      ]
    },
    {
      "cell_type": "markdown",
      "metadata": {
        "id": "C4_nhMuRNpbV"
      },
      "source": [
        "## Step 4: Training and Evaluation Loop\n",
        "\n",
        "**Training Mode**: We set the model to training mode (model.train()) to ensure that the model behaves appropriately during training, especially for layers like dropout and batch normalization.\n",
        "\n",
        "**Training Loop**:\n",
        "\n",
        "1. Zero out the gradients from the previous step (optimizer.zero_grad()).\n",
        "\n",
        "2. Pass the input through the model to get predictions (model(inputs)).\n",
        "\n",
        "3. Calculate the loss between the predicted outputs and true labels (criterion(outputs, labels)).\n",
        "\n",
        "4. Perform backpropagation (loss.backward()) to compute gradients.\n",
        "    \n",
        "5. Update the model weights using the optimizer (optimizer.step()).\n",
        "\n",
        "* **Training Accuracy Calculation**: We use torch.max() to get the predicted class labels and compare them to the true labels to calculate training accuracy after each batch. This is accumulated over all batches for the entire epoch.\n",
        "\n",
        "**Evaluation Mode**: After training on the current epoch, we switch the model to evaluation mode (model.eval()), which ensures layers like dropout behave correctly during testing.\n",
        "\n",
        "**Testing Loop**:\n",
        "\n",
        "1. We perform inference on the test dataset by passing inputs through the model (model(inputs)).\n",
        "2. We compute test accuracy by comparing predicted labels to true labels, in the same way we did for training.\n",
        "\n",
        "**Storing Accuracy**: After each epoch, we store both the training accuracy and testing accuracy in separate lists (train_accuracies and test_accuracies), which we will use for visualization.\n",
        "\n",
        "**Epoch Output**: After each epoch, we print the loss, training accuracy, and testing accuracy to track the model’s progress."
      ]
    },
    {
      "cell_type": "code",
      "execution_count": null,
      "metadata": {
        "colab": {
          "base_uri": "https://localhost:8080/"
        },
        "id": "_xMivBfmNpbV",
        "outputId": "d9e5bd9a-1ba2-40f7-c8a0-4df0b830a854"
      },
      "outputs": [
        {
          "output_type": "stream",
          "name": "stdout",
          "text": [
            "Epoch 1/5, Loss: 1.7608, Train Accuracy: 72.11%, Test Accuracy: 82.39%\n",
            "Epoch 2/5, Loss: 1.6459, Train Accuracy: 82.00%, Test Accuracy: 83.63%\n",
            "Epoch 3/5, Loss: 1.5970, Train Accuracy: 86.78%, Test Accuracy: 92.37%\n",
            "Epoch 4/5, Loss: 1.5362, Train Accuracy: 92.92%, Test Accuracy: 93.59%\n",
            "Epoch 5/5, Loss: 1.5275, Train Accuracy: 93.65%, Test Accuracy: 94.26%\n"
          ]
        }
      ],
      "source": [
        "# Initialize lists to track accuracy for plotting\n",
        "train_accuracies = []\n",
        "test_accuracies = []\n",
        "\n",
        "# Number of epochs\n",
        "num_epochs = 5\n",
        "\n",
        "for epoch in range(num_epochs):\n",
        "    model.train()\n",
        "    running_loss = 0.0\n",
        "    correct_train = 0\n",
        "    total_train = 0\n",
        "\n",
        "    # Training loop\n",
        "    for inputs, labels in trainloader:\n",
        "        optimizer.zero_grad()\n",
        "        outputs = model(inputs)\n",
        "        loss = criterion(outputs, labels)\n",
        "        loss.backward()\n",
        "        optimizer.step()\n",
        "\n",
        "        running_loss += loss.item()\n",
        "\n",
        "        # Calculate training accuracy\n",
        "        _, predicted = torch.max(outputs, 1)\n",
        "        total_train += labels.size(0)\n",
        "        correct_train += (predicted == labels).sum().item()\n",
        "\n",
        "    train_accuracy = 100 * correct_train / total_train\n",
        "    train_accuracies.append(train_accuracy)\n",
        "\n",
        "    # Testing loop\n",
        "    model.eval()\n",
        "    correct_test = 0\n",
        "    total_test = 0\n",
        "    with torch.no_grad():\n",
        "        for inputs, labels in testloader:\n",
        "            outputs = model(inputs)\n",
        "            _, predicted = torch.max(outputs, 1)\n",
        "            total_test += labels.size(0)\n",
        "            correct_test += (predicted == labels).sum().item()\n",
        "\n",
        "    test_accuracy = 100 * correct_test / total_test\n",
        "    test_accuracies.append(test_accuracy)\n",
        "\n",
        "    print(f\"Epoch {epoch+1}/{num_epochs}, Loss: {running_loss/len(trainloader):.4f}, \"\n",
        "          f\"Train Accuracy: {train_accuracy:.2f}%, Test Accuracy: {test_accuracy:.2f}%\")"
      ]
    },
    {
      "cell_type": "markdown",
      "metadata": {
        "id": "LgrX-YACNpbW"
      },
      "source": [
        "## Step 5: Vizualization of Evaluation"
      ]
    },
    {
      "cell_type": "code",
      "execution_count": null,
      "metadata": {
        "colab": {
          "base_uri": "https://localhost:8080/",
          "height": 507
        },
        "id": "ySCA9ekqNpbX",
        "outputId": "13604795-624f-4558-e23b-31b3d14ee569"
      },
      "outputs": [
        {
          "output_type": "display_data",
          "data": {
            "text/plain": [
              "<Figure size 1000x500 with 2 Axes>"
            ],
            "image/png": "[encoded data removed]"
          },
          "metadata": {}
        }
      ],
      "source": [
        "import matplotlib.pyplot as plt\n",
        "\n",
        "plt.figure(figsize=(10, 5))\n",
        "\n",
        "plt.subplot(1, 2, 1)\n",
        "plt.plot(range(1, num_epochs + 1), train_accuracies, label='Train Accuracy', color='blue', marker='o')\n",
        "plt.title('Training Accuracy')\n",
        "plt.xlabel('Epoch')\n",
        "plt.ylabel('Accuracy (%)')\n",
        "plt.xticks(range(1, num_epochs + 1))\n",
        "\n",
        "plt.subplot(1, 2, 2)\n",
        "plt.plot(range(1, num_epochs + 1), test_accuracies, label='Test Accuracy', color='red', marker='o')\n",
        "plt.title('Testing Accuracy')\n",
        "plt.xlabel('Epoch')\n",
        "plt.ylabel('Accuracy (%)')\n",
        "plt.xticks(range(1, num_epochs + 1))\n",
        "\n",
        "plt.tight_layout()\n",
        "plt.show()"
      ]
    },
    {
      "cell_type": "code",
      "source": [
        "import random\n",
        "import matplotlib.pyplot as plt\n",
        "\n",
        "# Get a batch of test images\n",
        "dataiter = iter(testloader)\n",
        "images, labels = next(dataiter)\n",
        "\n",
        "num_images = 8\n",
        "random_indices = random.sample(range(len(images)), num_images)\n",
        "\n",
        "images_subset = images[random_indices]\n",
        "labels_subset = labels[random_indices]\n",
        "\n",
        "\n",
        "# Get model predictions\n",
        "model.eval()\n",
        "with torch.no_grad():\n",
        "    outputs = model(images_subset)\n",
        "    _, predictions = torch.max(outputs, 1)\n",
        "\n",
        "# Plot images with their predicted labels\n",
        "fig, axes = plt.subplots(1, num_images, figsize=(12, 3))\n",
        "for i, idx in enumerate(random_indices):\n",
        "    ax = axes[i]\n",
        "    ax.imshow(images_subset[i].squeeze(), cmap='gray')  # Convert to 2D grayscale\n",
        "    ax.set_title(f\"Pred: {predictions[i].item()}\")\n",
        "    ax.axis(\"off\")\n",
        "\n",
        "plt.show()\n",
        "\n",
        "# Print actual and predicted labels\n",
        "print(\"Actual labels:   \", labels_subset.tolist())\n",
        "print(\"Predicted labels:\", predictions.tolist())"
      ],
      "metadata": {
        "id": "HuyV3gpTPPNG",
        "collapsed": true
      },
      "execution_count": null,
      "outputs": []
    }
  ],
  "metadata": {
    "kernelspec": {
      "display_name": "Python 3",
      "language": "python",
      "name": "python3"
    },
    "language_info": {
      "codemirror_mode": {
        "name": "ipython",
        "version": 3
      },
      "file_extension": ".py",
      "mimetype": "text/x-python",
      "name": "python",
      "nbconvert_exporter": "python",
      "pygments_lexer": "ipython3",
      "version": "3.10.8"
    },
    "colab": {
      "provenance": []
    }
  },
  "nbformat": 4,
  "nbformat_minor": 0
}